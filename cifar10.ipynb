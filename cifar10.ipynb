{
  "nbformat": 4,
  "nbformat_minor": 0,
  "metadata": {
    "colab": {
      "name": "cifar10.ipynb",
      "version": "0.3.2",
      "provenance": [],
      "include_colab_link": true
    },
    "kernelspec": {
      "name": "python3",
      "display_name": "Python 3"
    },
    "accelerator": "GPU"
  },
  "cells": [
    {
      "cell_type": "markdown",
      "metadata": {
        "id": "view-in-github",
        "colab_type": "text"
      },
      "source": [
        "<a href=\"https://colab.research.google.com/github/baek0618/colab_test/blob/master/cifar10.ipynb\" target=\"_parent\"><img src=\"https://colab.research.google.com/assets/colab-badge.svg\" alt=\"Open In Colab\"/></a>"
      ]
    },
    {
      "metadata": {
        "id": "XU6DvIa8vljZ",
        "colab_type": "code",
        "outputId": "0ce7d5ac-0f2e-4893-e575-99cf4f226720",
        "colab": {
          "base_uri": "https://localhost:8080/",
          "height": 199
        }
      },
      "cell_type": "code",
      "source": [
        "from google.colab import drive\n",
        "drive.mount('/content/drive')\n",
        "\n",
        "!pwd  #/content \n",
        "!ls -al /content/drive/'My Drive'/'Colab Notebooks'/drive"
      ],
      "execution_count": 1,
      "outputs": [
        {
          "output_type": "stream",
          "text": [
            "Go to this URL in a browser: https://accounts.google.com/o/oauth2/auth?client_id=947318989803-6bn6qk8qdgf4n4g3pfee6491hc0brc4i.apps.googleusercontent.com&redirect_uri=urn%3Aietf%3Awg%3Aoauth%3A2.0%3Aoob&scope=email%20https%3A%2F%2Fwww.googleapis.com%2Fauth%2Fdocs.test%20https%3A%2F%2Fwww.googleapis.com%2Fauth%2Fdrive%20https%3A%2F%2Fwww.googleapis.com%2Fauth%2Fdrive.photos.readonly%20https%3A%2F%2Fwww.googleapis.com%2Fauth%2Fpeopleapi.readonly&response_type=code\n",
            "\n",
            "Enter your authorization code:\n",
            "··········\n",
            "Mounted at /content/drive\n",
            "/content\n",
            "total 14\n",
            "-rw------- 1 root root 6972 Nov  3 06:27 images.jpg\n",
            "-rw------- 1 root root 6547 Nov  3 07:19 야도란.png\n"
          ],
          "name": "stdout"
        }
      ]
    },
    {
      "metadata": {
        "id": "E5NoUeBFwBhP",
        "colab_type": "code",
        "outputId": "5af4b8e6-32ed-41d9-e160-02600a189129",
        "colab": {
          "base_uri": "https://localhost:8080/",
          "height": 107
        }
      },
      "cell_type": "code",
      "source": [
        "!ls -al /content/drive/'My Drive'/vinzip/baek/cifar10"
      ],
      "execution_count": 0,
      "outputs": [
        {
          "output_type": "stream",
          "text": [
            "total 41\n",
            "drwx------ 2 root root  4096 Nov  5 15:58 test\n",
            "-rw------- 1 root root  3000 Nov  5 16:34 test_lb.csv\n",
            "drwx------ 2 root root  4096 Nov  5 15:58 train\n",
            "-rw------- 1 root root 30000 Nov  5 16:34 train_lb.csv\n"
          ],
          "name": "stdout"
        }
      ]
    },
    {
      "metadata": {
        "id": "rBMwItOvyAjg",
        "colab_type": "code",
        "outputId": "ae054223-bb9d-436f-e344-9df693c0c2be",
        "colab": {
          "base_uri": "https://localhost:8080/",
          "height": 35
        }
      },
      "cell_type": "code",
      "source": [
        "#loder2.py\u000b\u000bimport os\n",
        "import re\n",
        "import cv2\n",
        "import numpy  as  np\n",
        "import csv\n",
        "import  random\n",
        "\n",
        "def image_load(path):\n",
        "    print(path)\n",
        "    file_list = os.listdir(path)\n",
        "    file_name = []\n",
        "    cnt=0\n",
        "    \n",
        "    for i in file_list:\n",
        "      cnt+=1\n",
        "      print('\\r', '첫 번째 : ', cnt, '/',len(file_list), end='') \n",
        "      a = int(re.sub('[^0-9]' ,'' ,i))\n",
        "      file_name.append(a)\n",
        "      \n",
        "    file_name.sort()\n",
        "    data  = []\n",
        "    cnt=0\n",
        "    for i in file_name:\n",
        "      cnt+=1\n",
        "      print('\\r', '두 번째 : ', cnt, '/',len(file_name), end='') \n",
        "      file = path + str(i) + '.png'\n",
        "      data.append(file)\n",
        "        \n",
        "    image = []\n",
        "    cnt=0\n",
        "    for j in data:\n",
        "      cnt+=1\n",
        "      if (cnt > 2000):\n",
        "        break\n",
        "      print('\\r', '마지막 : ', cnt, '/',len(data), end='')\n",
        "      img = cv2.imread(j)\n",
        "      image.append(img)\n",
        "    return np.array(image)\n",
        "\n",
        "def label_load(path):\n",
        "    file = open(path)\n",
        "    labeldata = csv.reader(file)\n",
        "    labellist = []\n",
        "\n",
        "    for i in labeldata:\n",
        "        labellist.append(i)\n",
        "\n",
        "    label = np.array(labellist)\n",
        "    label = label.astype(int)\n",
        "    label = np.eye(10)[label]\n",
        "    label = np.squeeze(label, axis=1)\n",
        "\n",
        "    return label\n",
        "\n",
        "\n",
        "def shuffle_batch(data_list, label):\n",
        "    x= np.arange(len(data_list))\n",
        "    random.shuffle(x)\n",
        "    data_list2 = data_list[x]\n",
        "    label2 = label[x]\n",
        "    return data_list2, label2\n",
        "\n",
        "def next_batch(data_list,label,idx,batch_size):\n",
        "\n",
        "    batch1 = data_list[idx * batch_size:idx * batch_size + batch_size]\n",
        "\n",
        "    label2 = label[idx * batch_size:idx * batch_size + batch_size]\n",
        "\n",
        "    return batch1, label2\n",
        "\n",
        "print('loader')"
      ],
      "execution_count": 4,
      "outputs": [
        {
          "output_type": "stream",
          "text": [
            "loader\n"
          ],
          "name": "stdout"
        }
      ]
    },
    {
      "metadata": {
        "id": "z-jNjD7Hvrcd",
        "colab_type": "code",
        "outputId": "93c144b2-0d97-4320-8db9-c83b55e32197",
        "colab": {
          "base_uri": "https://localhost:8080/",
          "height": 802
        }
      },
      "cell_type": "code",
      "source": [
        "import tensorflow as tf\n",
        "from tensorflow.examples.tutorials.mnist import input_data\n",
        "import matplotlib.pyplot as plt\n",
        "import numpy as np\n",
        "import os\n",
        "#import loader3\n",
        "\n",
        "\n",
        "train_image = '/content/drive/My Drive/vinzip/baek/cifar10/train/'\n",
        "train_label = '/content/drive/My Drive/vinzip/baek/cifar10/train_lb.csv'\n",
        "\n",
        "test_image = '/content/drive/My Drive/vinzip/baek/cifar10/test/'\n",
        "test_label = '/content/drive/My Drive/vinzip/baek/cifar10/test_lb.csv'\n",
        "\n",
        "print(\"LOADING DATA\")\n",
        "# cifar10 데이터 로드\n",
        "\n",
        "trainY = label_load(train_label)\n",
        "testY = label_load(test_label)\n",
        "\n",
        "trainX = image_load(train_image)\n",
        "print('이미지 로드..1 ')\n",
        "print('이미지 로드..2 ')\n",
        "testX = image_load(test_image)\n",
        "\n",
        "\n",
        "tf.reset_default_graph()\n",
        "\n",
        "x = tf.placeholder(tf.float32, [None, 32, 32, 3])\n",
        "y = tf.placeholder(tf.float32, [None, 10])\n",
        "keep_prob = tf.placeholder(tf.float32) #drop out을 쓴다.(무엇을뺄지)\n",
        "\n",
        "# batchnorm switch\n",
        "isTrain = tf.placeholder(tf.bool)\n",
        "\n",
        "W1 = tf.Variable(tf.random_normal([3, 3, 3, 32], stddev=0.01)) \n",
        "#W1 = tf.get_variable(name='W1', shape=[3,3,3,32], initializer=tf.contrib.layers.variance_scaling_initializer())\n",
        "L1 = tf.nn.conv2d(x, W1, strides=[1, 1, 1, 1], padding='SAME')\n",
        "z1 = tf.contrib.layers.batch_norm(L1, is_training=isTrain) # 배치 정규화\n",
        "L1 = tf.nn.relu(z1)\n",
        "L1 = tf.nn.max_pool(L1, ksize=[1, 2, 2, 1], strides=[1, 2, 2, 1], padding='SAME')\n",
        "\n",
        "W2 = tf.Variable(tf.random_normal([3, 3, 32, 64], stddev=0.01))\n",
        "#W2 = tf.get_variable(name='W2', shape=[3,3,32,64], initializer=tf.contrib.layers.variance_scaling_initializer())\n",
        "L2 = tf.nn.conv2d(L1, W2, strides=[1, 1, 1, 1], padding='SAME')\n",
        "z2 = tf.contrib.layers.batch_norm(L2, is_training=isTrain) # 배치 정규화\n",
        "L2 = tf.nn.relu(z2)\n",
        "L2 = tf.nn.max_pool(L2, ksize=[1, 2, 2, 1], strides=[1, 2, 2, 1], padding='SAME')\n",
        "\n",
        "W3 = tf.Variable(tf.random_normal([32 * 32 * 64, 256], stddev=0.01))\n",
        "#W3 = tf.get_variable(name='W3', shape=[8*8*64,256], initializer=tf.contrib.layers.variance_scaling_initializer())\n",
        "L3 = tf.reshape(L2, [-1, 32 * 32 * 64])\n",
        "L3 = tf.matmul(L3, W3)\n",
        "z3 = tf.contrib.layers.batch_norm(L3, is_training=isTrain) # 배치 정규화\n",
        "L3 = tf.nn.relu(z3)\n",
        "L3 = tf.nn.dropout(L3, keep_prob)\n",
        "\n",
        "W4 = tf.Variable(tf.random_normal([256, 2], stddev=0.01))\n",
        "#W4 = tf.get_variable(name='W4', shape=[256,2], initializer=tf.contrib.layers.variance_scaling_initializer())\n",
        "y2 = tf.matmul(L3,W4) # 내적\n",
        "y_hat = tf.nn.softmax(y2)\n",
        "\n",
        "#예측값 출력\n",
        "y_predict = tf.argmax(y_hat, axis = 1)\n",
        "\n",
        "# 라벨을 저장하기 위한 변수 생성\n",
        "y_onehot = tf.placeholder(\"float\",[None,10])\n",
        "y_label = tf.argmax(y_onehot, axis = 1)\n",
        "\n",
        "# 정확도를 출력하기 위한 변수 생성\n",
        "correct_prediction = tf.equal(y_predict, y_label)\n",
        "acc = tf.reduce_mean(tf.cast(correct_prediction,\"float\"))\n",
        "\n",
        "# 교차 엔트로피 오차 함수\n",
        "loss = -tf.reduce_sum(y_onehot * tf.log(y_hat), axis = 1)\n",
        "\n",
        "# SGD 경사 감소법\n",
        "# optimizer = tf.train.GradientDescentOptimizer(learning_rate=0.05)\n",
        "\n",
        "update_ops = tf.get_collection(tf.GraphKeys.UPDATE_OPS)\n",
        "with tf.control_dependencies(update_ops):\n",
        "   # Ensures that we execute the update_ops before performing the train_step\n",
        "  Train = tf.train.AdamOptimizer(learning_rate=0.001).minimize(loss)\n",
        "\n",
        "  print('변수 초기화')\n",
        " # 변수 초기화\n",
        "  init = tf.global_variables_initializer()\n",
        "\n",
        "  train_acc_list = []\n",
        "  test_acc_list = []\n",
        "\n",
        "  with tf.Session() as sess:\n",
        "    print('세션생성')\n",
        "    sess.run(init)\n",
        "\n",
        "    for i in range(10000):\n",
        "      print('for문',i)\n",
        "      trainX, trainY = shuffle_batch(trainX, trainY)\n",
        "      testX, testY = shuffle_batch(testX, testY)\n",
        "\n",
        "      train_xs, train_ys = next_batch(trainX,trainY,0,40) # 훈련 데이터\n",
        "      test_xs, test_ys = next_batch(testX, testY, 0, 40) # 테스트 데이터\n",
        "\n",
        "\n",
        "      sess.run(Train, feed_dict={x : train_xs, y_onehot : train_ys, keep_prob: 0.9, isTrain:True})\n",
        "\n",
        "      if i % 600 == 0:\n",
        "\n",
        "        train_acc = sess.run(acc, feed_dict={x: train_xs, y_onehot: train_ys, keep_prob: 1.0,isTrain:False})\n",
        "        test_acc = sess.run(acc, feed_dict={x: test_xs, y_onehot: test_ys, keep_prob: 1.0, isTrain:False})\n",
        "\n",
        "        print(i / 600 + 1, 'ecpo train acc:', train_acc, ', test acc:', test_acc)\n",
        "\n",
        "        train_acc_list.append(train_acc)  # 10000/600 개  16개 # 정확도가 점점 올라감\n",
        "        test_acc_list.append(test_acc)  # 10000/600 개 16개 # 정확도가 점점 올라감\n",
        "\n",
        " # 그래프 그리기\n",
        "markers = {'train': 'o', 'test': 's'}\n",
        "x = np.arange(len(train_acc_list))\n",
        "plt.plot(x, train_acc_list, label='train acc')\n",
        "plt.plot(x, test_acc_list, label='test acc', linestyle='--')\n",
        "plt.xlabel(\"epochs\")\n",
        "plt.ylabel(\"accuracy\")\n",
        "plt.ylim(0, 1.0)\n",
        "plt.legend(loc='lower right')\n",
        "plt.show() \n",
        "   "
      ],
      "execution_count": 0,
      "outputs": [
        {
          "output_type": "stream",
          "text": [
            "LOADING DATA\n",
            "[[0. 0. 0. ... 0. 0. 0.]\n",
            " [0. 0. 0. ... 0. 0. 1.]\n",
            " [0. 0. 0. ... 0. 0. 1.]\n",
            " ...\n",
            " [0. 1. 0. ... 0. 0. 0.]\n",
            " [0. 0. 0. ... 0. 0. 0.]\n",
            " [0. 0. 0. ... 0. 0. 0.]]\n",
            "/content/drive/My Drive/vinzip/baek/cifar10/train/\n",
            " 두 번째 :  3535 / 10000"
          ],
          "name": "stdout"
        },
        {
          "output_type": "error",
          "ename": "KeyboardInterrupt",
          "evalue": "ignored",
          "traceback": [
            "\u001b[0;31m---------------------------------------------------------------------------\u001b[0m",
            "\u001b[0;31mKeyboardInterrupt\u001b[0m                         Traceback (most recent call last)",
            "\u001b[0;32m<ipython-input-60-cc9764d33d3a>\u001b[0m in \u001b[0;36m<module>\u001b[0;34m()\u001b[0m\n\u001b[1;32m     20\u001b[0m \u001b[0mprint\u001b[0m\u001b[0;34m(\u001b[0m\u001b[0mtestY\u001b[0m\u001b[0;34m)\u001b[0m\u001b[0;34m\u001b[0m\u001b[0m\n\u001b[1;32m     21\u001b[0m \u001b[0;34m\u001b[0m\u001b[0m\n\u001b[0;32m---> 22\u001b[0;31m \u001b[0mtrainX\u001b[0m \u001b[0;34m=\u001b[0m \u001b[0mimage_load\u001b[0m\u001b[0;34m(\u001b[0m\u001b[0mtrain_image\u001b[0m\u001b[0;34m)\u001b[0m\u001b[0;34m\u001b[0m\u001b[0m\n\u001b[0m\u001b[1;32m     23\u001b[0m \u001b[0mprint\u001b[0m\u001b[0;34m(\u001b[0m\u001b[0;34m'이미지 로드..1 '\u001b[0m\u001b[0;34m)\u001b[0m\u001b[0;34m\u001b[0m\u001b[0m\n\u001b[1;32m     24\u001b[0m \u001b[0mprint\u001b[0m\u001b[0;34m(\u001b[0m\u001b[0;34m'이미지 로드..2 '\u001b[0m\u001b[0;34m)\u001b[0m\u001b[0;34m\u001b[0m\u001b[0m\n",
            "\u001b[0;32m<ipython-input-54-a16684b2cf1d>\u001b[0m in \u001b[0;36mimage_load\u001b[0;34m(path)\u001b[0m\n\u001b[1;32m     22\u001b[0m     \u001b[0;32mfor\u001b[0m \u001b[0mi\u001b[0m \u001b[0;32min\u001b[0m \u001b[0mfile_name\u001b[0m\u001b[0;34m:\u001b[0m\u001b[0;34m\u001b[0m\u001b[0m\n\u001b[1;32m     23\u001b[0m       \u001b[0mcnt\u001b[0m\u001b[0;34m+=\u001b[0m\u001b[0;36m1\u001b[0m\u001b[0;34m\u001b[0m\u001b[0m\n\u001b[0;32m---> 24\u001b[0;31m       \u001b[0mprint\u001b[0m\u001b[0;34m(\u001b[0m\u001b[0;34m'\\r'\u001b[0m\u001b[0;34m,\u001b[0m \u001b[0;34m'두 번째 : '\u001b[0m\u001b[0;34m,\u001b[0m \u001b[0mcnt\u001b[0m\u001b[0;34m,\u001b[0m \u001b[0;34m'/'\u001b[0m\u001b[0;34m,\u001b[0m\u001b[0mlen\u001b[0m\u001b[0;34m(\u001b[0m\u001b[0mfile_name\u001b[0m\u001b[0;34m)\u001b[0m\u001b[0;34m,\u001b[0m \u001b[0mend\u001b[0m\u001b[0;34m=\u001b[0m\u001b[0;34m''\u001b[0m\u001b[0;34m)\u001b[0m\u001b[0;34m\u001b[0m\u001b[0m\n\u001b[0m\u001b[1;32m     25\u001b[0m       \u001b[0mfile\u001b[0m \u001b[0;34m=\u001b[0m \u001b[0mpath\u001b[0m \u001b[0;34m+\u001b[0m \u001b[0mstr\u001b[0m\u001b[0;34m(\u001b[0m\u001b[0mi\u001b[0m\u001b[0;34m)\u001b[0m \u001b[0;34m+\u001b[0m \u001b[0;34m'.png'\u001b[0m\u001b[0;34m\u001b[0m\u001b[0m\n\u001b[1;32m     26\u001b[0m       \u001b[0mdata\u001b[0m\u001b[0;34m.\u001b[0m\u001b[0mappend\u001b[0m\u001b[0;34m(\u001b[0m\u001b[0mfile\u001b[0m\u001b[0;34m)\u001b[0m\u001b[0;34m\u001b[0m\u001b[0m\n",
            "\u001b[0;32m/usr/local/lib/python3.6/dist-packages/ipykernel/iostream.py\u001b[0m in \u001b[0;36mwrite\u001b[0;34m(self, string)\u001b[0m\n\u001b[1;32m    350\u001b[0m             \u001b[0mis_child\u001b[0m \u001b[0;34m=\u001b[0m \u001b[0;34m(\u001b[0m\u001b[0;32mnot\u001b[0m \u001b[0mself\u001b[0m\u001b[0;34m.\u001b[0m\u001b[0m_is_master_process\u001b[0m\u001b[0;34m(\u001b[0m\u001b[0;34m)\u001b[0m\u001b[0;34m)\u001b[0m\u001b[0;34m\u001b[0m\u001b[0m\n\u001b[1;32m    351\u001b[0m             \u001b[0;31m# only touch the buffer in the IO thread to avoid races\u001b[0m\u001b[0;34m\u001b[0m\u001b[0;34m\u001b[0m\u001b[0m\n\u001b[0;32m--> 352\u001b[0;31m             \u001b[0mself\u001b[0m\u001b[0;34m.\u001b[0m\u001b[0mpub_thread\u001b[0m\u001b[0;34m.\u001b[0m\u001b[0mschedule\u001b[0m\u001b[0;34m(\u001b[0m\u001b[0;32mlambda\u001b[0m \u001b[0;34m:\u001b[0m \u001b[0mself\u001b[0m\u001b[0;34m.\u001b[0m\u001b[0m_buffer\u001b[0m\u001b[0;34m.\u001b[0m\u001b[0mwrite\u001b[0m\u001b[0;34m(\u001b[0m\u001b[0mstring\u001b[0m\u001b[0;34m)\u001b[0m\u001b[0;34m)\u001b[0m\u001b[0;34m\u001b[0m\u001b[0m\n\u001b[0m\u001b[1;32m    353\u001b[0m             \u001b[0;32mif\u001b[0m \u001b[0mis_child\u001b[0m\u001b[0;34m:\u001b[0m\u001b[0;34m\u001b[0m\u001b[0m\n\u001b[1;32m    354\u001b[0m                 \u001b[0;31m# newlines imply flush in subprocesses\u001b[0m\u001b[0;34m\u001b[0m\u001b[0;34m\u001b[0m\u001b[0m\n",
            "\u001b[0;32m/usr/local/lib/python3.6/dist-packages/ipykernel/iostream.py\u001b[0m in \u001b[0;36mschedule\u001b[0;34m(self, f)\u001b[0m\n\u001b[1;32m    184\u001b[0m         \"\"\"\n\u001b[1;32m    185\u001b[0m         \u001b[0;32mif\u001b[0m \u001b[0mself\u001b[0m\u001b[0;34m.\u001b[0m\u001b[0mthread\u001b[0m\u001b[0;34m.\u001b[0m\u001b[0mis_alive\u001b[0m\u001b[0;34m(\u001b[0m\u001b[0;34m)\u001b[0m\u001b[0;34m:\u001b[0m\u001b[0;34m\u001b[0m\u001b[0m\n\u001b[0;32m--> 186\u001b[0;31m             \u001b[0mevent_id\u001b[0m \u001b[0;34m=\u001b[0m \u001b[0mos\u001b[0m\u001b[0;34m.\u001b[0m\u001b[0murandom\u001b[0m\u001b[0;34m(\u001b[0m\u001b[0;36m16\u001b[0m\u001b[0;34m)\u001b[0m\u001b[0;34m\u001b[0m\u001b[0m\n\u001b[0m\u001b[1;32m    187\u001b[0m             \u001b[0;32mwhile\u001b[0m \u001b[0mevent_id\u001b[0m \u001b[0;32min\u001b[0m \u001b[0mself\u001b[0m\u001b[0;34m.\u001b[0m\u001b[0m_events\u001b[0m\u001b[0;34m:\u001b[0m\u001b[0;34m\u001b[0m\u001b[0m\n\u001b[1;32m    188\u001b[0m                 \u001b[0mevent_id\u001b[0m \u001b[0;34m=\u001b[0m \u001b[0mos\u001b[0m\u001b[0;34m.\u001b[0m\u001b[0murandom\u001b[0m\u001b[0;34m(\u001b[0m\u001b[0;36m16\u001b[0m\u001b[0;34m)\u001b[0m\u001b[0;34m\u001b[0m\u001b[0m\n",
            "\u001b[0;31mKeyboardInterrupt\u001b[0m: "
          ]
        }
      ]
    },
    {
      "metadata": {
        "id": "pzNREwCQBbNp",
        "colab_type": "code",
        "colab": {}
      },
      "cell_type": "code",
      "source": [
        ""
      ],
      "execution_count": 0,
      "outputs": []
    },
    {
      "metadata": {
        "id": "0OcwNDVy2iV2",
        "colab_type": "code",
        "outputId": "77102587-836d-4cd3-8507-c4b1e35001dd",
        "colab": {
          "base_uri": "https://localhost:8080/",
          "height": 442
        }
      },
      "cell_type": "code",
      "source": [
        "from random import uniform \n",
        "import time \n",
        "\n",
        "def black_box(): \n",
        "    i = 1 \n",
        "    while True: \n",
        "      print ('Iteration', i, 'Score:', uniform(0, 1)) \n",
        "      time.sleep(1) \n",
        "      i += 1 \n",
        "black_box()"
      ],
      "execution_count": 0,
      "outputs": [
        {
          "output_type": "stream",
          "text": [
            "Iteration 1 Score: 0.30338628007355406\n",
            "Iteration 2 Score: 0.7550738631710936\n",
            "Iteration 3 Score: 0.840577237391534\n",
            "Iteration 4 Score: 0.8556090564350779\n",
            "Iteration 5 Score: 0.19454473296539943\n",
            "Iteration 6 Score: 0.32819303621180607\n"
          ],
          "name": "stdout"
        },
        {
          "output_type": "error",
          "ename": "KeyboardInterrupt",
          "evalue": "ignored",
          "traceback": [
            "\u001b[0;31m---------------------------------------------------------------------------\u001b[0m",
            "\u001b[0;31mKeyboardInterrupt\u001b[0m                         Traceback (most recent call last)",
            "\u001b[0;32m<ipython-input-32-18f579d111ea>\u001b[0m in \u001b[0;36m<module>\u001b[0;34m()\u001b[0m\n\u001b[1;32m      8\u001b[0m       \u001b[0mtime\u001b[0m\u001b[0;34m.\u001b[0m\u001b[0msleep\u001b[0m\u001b[0;34m(\u001b[0m\u001b[0;36m1\u001b[0m\u001b[0;34m)\u001b[0m\u001b[0;34m\u001b[0m\u001b[0m\n\u001b[1;32m      9\u001b[0m       \u001b[0mi\u001b[0m \u001b[0;34m+=\u001b[0m \u001b[0;36m1\u001b[0m\u001b[0;34m\u001b[0m\u001b[0m\n\u001b[0;32m---> 10\u001b[0;31m \u001b[0mblack_box\u001b[0m\u001b[0;34m(\u001b[0m\u001b[0;34m)\u001b[0m\u001b[0;34m\u001b[0m\u001b[0m\n\u001b[0m",
            "\u001b[0;32m<ipython-input-32-18f579d111ea>\u001b[0m in \u001b[0;36mblack_box\u001b[0;34m()\u001b[0m\n\u001b[1;32m      6\u001b[0m     \u001b[0;32mwhile\u001b[0m \u001b[0;32mTrue\u001b[0m\u001b[0;34m:\u001b[0m\u001b[0;34m\u001b[0m\u001b[0m\n\u001b[1;32m      7\u001b[0m       \u001b[0mprint\u001b[0m \u001b[0;34m(\u001b[0m\u001b[0;34m'Iteration'\u001b[0m\u001b[0;34m,\u001b[0m \u001b[0mi\u001b[0m\u001b[0;34m,\u001b[0m \u001b[0;34m'Score:'\u001b[0m\u001b[0;34m,\u001b[0m \u001b[0muniform\u001b[0m\u001b[0;34m(\u001b[0m\u001b[0;36m0\u001b[0m\u001b[0;34m,\u001b[0m \u001b[0;36m1\u001b[0m\u001b[0;34m)\u001b[0m\u001b[0;34m)\u001b[0m\u001b[0;34m\u001b[0m\u001b[0m\n\u001b[0;32m----> 8\u001b[0;31m       \u001b[0mtime\u001b[0m\u001b[0;34m.\u001b[0m\u001b[0msleep\u001b[0m\u001b[0;34m(\u001b[0m\u001b[0;36m1\u001b[0m\u001b[0;34m)\u001b[0m\u001b[0;34m\u001b[0m\u001b[0m\n\u001b[0m\u001b[1;32m      9\u001b[0m       \u001b[0mi\u001b[0m \u001b[0;34m+=\u001b[0m \u001b[0;36m1\u001b[0m\u001b[0;34m\u001b[0m\u001b[0m\n\u001b[1;32m     10\u001b[0m \u001b[0mblack_box\u001b[0m\u001b[0;34m(\u001b[0m\u001b[0;34m)\u001b[0m\u001b[0;34m\u001b[0m\u001b[0m\n",
            "\u001b[0;31mKeyboardInterrupt\u001b[0m: "
          ]
        }
      ]
    },
    {
      "metadata": {
        "id": "gEFWtutskax_",
        "colab_type": "code",
        "outputId": "08a1f952-12d2-4502-8f51-3a0e3333586a",
        "colab": {
          "base_uri": "https://localhost:8080/",
          "height": 761
        }
      },
      "cell_type": "code",
      "source": [
        "import tensorflow as tf\n",
        "from tensorflow.examples.tutorials.mnist import input_data\n",
        "import matplotlib.pyplot as plt\n",
        "import numpy as np\n",
        "import os\n",
        "#import loader3\n",
        "\n",
        "\n",
        "train_image = '/content/drive/My Drive/vinzip/baek/cifar10/train/'\n",
        "train_label = '/content/drive/My Drive/vinzip/baek/cifar10/train_lb.csv'\n",
        "\n",
        "test_image = '/content/drive/My Drive/vinzip/baek/cifar10/test/'\n",
        "test_label = '/content/drive/My Drive/vinzip/baek/cifar10/test_lb.csv'\n",
        "\n",
        "print(\"LOADING DATA\")\n",
        "# cifar10 데이터 로드\n",
        "\n",
        "trainY = label_load(train_label)\n",
        "testY = label_load(test_label)\n",
        "\n",
        "trainX = image_load(train_image)\n",
        "print('이미지 로드..1 ')\n",
        "print('이미지 로드..2 ')\n",
        "testX = image_load(test_image)\n",
        "\n",
        "tf.reset_default_graph()\n",
        "\n",
        "x = tf.placeholder(tf.float32, [None, 32, 32, 3])\n",
        "y = tf.placeholder(tf.float32, [None, 10])\n",
        "keep_prob = tf.placeholder(tf.float32)\n",
        "\n",
        "W1 = tf.Variable(tf.random_normal([3, 3, 3, 32], stddev=0.01))\n",
        "L1 = tf.nn.conv2d(x, W1, strides=[1, 1, 1, 1], padding='SAME')\n",
        "\n",
        "L1 = tf.nn.relu(L1)\n",
        "L1 = tf.nn.max_pool(L1, ksize=[1, 2, 2, 1], strides=[1, 2, 2, 1], padding='SAME')\n",
        "\n",
        "W2 = tf.Variable(tf.random_normal([3, 3, 32, 64], stddev=0.01))\n",
        "L2 = tf.nn.conv2d(L1, W2, strides=[1, 1, 1, 1], padding='SAME')\n",
        "L2 = tf.nn.relu(L2)\n",
        "L2 = tf.nn.max_pool(L2, ksize=[1, 2, 2, 1], strides=[1, 2, 2, 1], padding='SAME')\n",
        "\n",
        "W3 = tf.Variable(tf.random_normal([8 * 8 * 64, 256], stddev=0.01))\n",
        "L3 = tf.reshape(L2, [-1, 8 *8 * 64])\n",
        "L3 = tf.matmul(L3, W3)\n",
        "L3 = tf.nn.relu(L3)\n",
        "L3 = tf.nn.dropout(L3, keep_prob)\n",
        "\n",
        "W4 = tf.Variable(tf.random_normal([256, 10], stddev=0.01))\n",
        "y2 = tf.matmul(L3,W4) # 내적\n",
        "y_hat = tf.nn.softmax(y2)\n",
        "\n",
        "#예측값 출력\n",
        "y_predict = tf.argmax(y_hat, axis = 1)\n",
        "\n",
        "# 라벨을 저장하기 위한 변수 생성\n",
        "y_onehot = tf.placeholder(\"float\",[None,10])\n",
        "y_label = tf.argmax(y_onehot, axis = 1)\n",
        "\n",
        "# 정확도를 출력하기 위한 변수 생성\n",
        "correct_prediction = tf.equal(y_predict, y_label)\n",
        "acc = tf.reduce_mean(tf.cast(correct_prediction,\"float\"))\n",
        "\n",
        "# 교차 엔트로피 오차 함수\n",
        "loss = -tf.reduce_sum(y_onehot * tf.log(y_hat), axis = 1)\n",
        "\n",
        "# SGD 경사 감소법\n",
        "# optimizer = tf.train.GradientDescentOptimizer(learning_rate=0.05)\n",
        "\n",
        "update_ops = tf.get_collection(tf.GraphKeys.UPDATE_OPS)\n",
        "with tf.control_dependencies(update_ops):\n",
        "    # Ensures that we execute the update_ops before performing the train_step\n",
        "    Train = tf.train.AdamOptimizer(learning_rate=0.001).minimize(loss)\n",
        "\n",
        "\n",
        "# 변수 초기화\n",
        "init = tf.global_variables_initializer()\n",
        "\n",
        "train_acc_list = []\n",
        "test_acc_list = []\n",
        "\n",
        "with tf.Session() as sess:\n",
        "\n",
        "    sess.run(init)\n",
        "\n",
        "    for i in range(10000):\n",
        "\u000b     \n",
        "        train_xs, train_ys = next_batch(trainX,trainY,0,100) # 훈련 데이터\n",
        "        test_xs, test_ys = next_batch(testX, testY, 0, 100) # 테스트 데이터\n",
        "        \u000b       #train_xs, train_ys = mnist.train.next_batch(100) # 훈련 데이터\n",
        "        #test_xs, test_ys = mnist.test.next_batch(100) # 테스트 데이터\n",
        "        \u000b        #train_xs = train_xs.reshape(-1,28,28,1)\n",
        "        #test_xs = test_xs.reshape(-1,28,28,1)   #cifar10은 사진이라 필요없다\n",
        "\n",
        "        sess.run(Train, feed_dict={x : train_xs, y_onehot : train_ys, keep_prob: 0.9})\n",
        "\n",
        "        if i % 600 == 0:\n",
        "\n",
        "            train_acc = sess.run(acc, feed_dict={x: train_xs, y_onehot: train_ys, keep_prob: 1.0})\n",
        "            test_acc = sess.run(acc, feed_dict={x: test_xs, y_onehot: test_ys, keep_prob: 1.0})\n",
        "\n",
        "            print(i / 600 + 1, 'ecpo train acc:', train_acc, ', test acc:', test_acc)\n",
        "\n",
        "            train_acc_list.append(train_acc)  # 10000/600 개  16개 # 정확도가 점점 올라감\n",
        "            test_acc_list.append(test_acc)  # 10000/600 개 16개 # 정확도가 점점 올라감\n",
        "\n",
        "# 그래프 그리기\n",
        "markers = {'train': 'o', 'test': 's'}\n",
        "x = np.arange(len(train_acc_list))\n",
        "plt.plot(x, train_acc_list, label='train acc')\n",
        "plt.plot(x, test_acc_list, label='test acc', linestyle='--')\n",
        "plt.xlabel(\"epochs\")\n",
        "plt.ylabel(\"accuracy\")\n",
        "plt.ylim(0, 1.0)\n",
        "plt.legend(loc='lower right')\n",
        "plt.show() \n"
      ],
      "execution_count": 6,
      "outputs": [
        {
          "output_type": "stream",
          "text": [
            "LOADING DATA\n",
            "/content/drive/My Drive/vinzip/baek/cifar10/train/\n",
            " 마지막 :  2000 / 10000이미지 로드..1 \n",
            "이미지 로드..2 \n",
            "/content/drive/My Drive/vinzip/baek/cifar10/test/\n",
            " 마지막 :  1000 / 10001.0 ecpo train acc: 0.19 , test acc: 0.07\n",
            "2.0 ecpo train acc: 1.0 , test acc: 0.14\n",
            "3.0 ecpo train acc: 1.0 , test acc: 0.14\n",
            "4.0 ecpo train acc: 1.0 , test acc: 0.15\n",
            "5.0 ecpo train acc: 1.0 , test acc: 0.16\n",
            "6.0 ecpo train acc: 1.0 , test acc: 0.16\n",
            "7.0 ecpo train acc: 1.0 , test acc: 0.16\n",
            "8.0 ecpo train acc: 1.0 , test acc: 0.15\n",
            "9.0 ecpo train acc: 1.0 , test acc: 0.14\n",
            "10.0 ecpo train acc: 1.0 , test acc: 0.15\n",
            "11.0 ecpo train acc: 1.0 , test acc: 0.16\n",
            "12.0 ecpo train acc: 1.0 , test acc: 0.17\n",
            "13.0 ecpo train acc: 0.1 , test acc: 0.06\n",
            "14.0 ecpo train acc: 0.1 , test acc: 0.06\n",
            "15.0 ecpo train acc: 0.1 , test acc: 0.06\n",
            "16.0 ecpo train acc: 0.1 , test acc: 0.06\n",
            "17.0 ecpo train acc: 0.1 , test acc: 0.06\n"
          ],
          "name": "stdout"
        },
        {
          "output_type": "display_data",
          "data": {
            "image/png": "[encoded data removed]",
            "text/plain": [
              "<matplotlib.figure.Figure at 0x7f5b4b28fe48>"
            ]
          },
          "metadata": {
            "tags": []
          }
        }
      ]
    },
    {
      "metadata": {
        "id": "7orEm_HywDJp",
        "colab_type": "code",
        "colab": {}
      },
      "cell_type": "code",
      "source": [
        ""
      ],
      "execution_count": 0,
      "outputs": []
    },
    {
      "metadata": {
        "id": "EVA47O8_wDTF",
        "colab_type": "code",
        "colab": {}
      },
      "cell_type": "code",
      "source": [
        ""
      ],
      "execution_count": 0,
      "outputs": []
    },
    {
      "metadata": {
        "id": "jhI_OYHKwBoD",
        "colab_type": "code",
        "colab": {}
      },
      "cell_type": "code",
      "source": [
        ""
      ],
      "execution_count": 0,
      "outputs": []
    }
  ]
}